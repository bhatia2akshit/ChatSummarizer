{
 "cells": [
  {
   "cell_type": "code",
   "execution_count": 35,
   "id": "e3389fee-a398-4dc8-b00e-23f6f86d9c85",
   "metadata": {},
   "outputs": [
    {
     "name": "stdout",
     "output_type": "stream",
     "text": [
      "Note: you may need to restart the kernel to use updated packages.\n"
     ]
    }
   ],
   "source": [
    "%pip install -qU langchain-text-splitters"
   ]
  },
  {
   "cell_type": "markdown",
   "id": "09d16349-6c0e-4930-abbe-388d44128314",
   "metadata": {},
   "source": [
    "#### Total number of lines in the orignal conversation is around 2200.\n",
    "#### Batches are made, each containing atmost 200 conversations.\n",
    "#### Summaries for each batch is created and then combined into a unified summary."
   ]
  },
  {
   "cell_type": "code",
   "execution_count": 120,
   "id": "ac5d2873-0bd5-4de2-88c8-248d08288362",
   "metadata": {},
   "outputs": [
    {
     "data": {
      "text/plain": [
       "'/Users/akshitbhatia'"
      ]
     },
     "execution_count": 120,
     "metadata": {},
     "output_type": "execute_result"
    }
   ],
   "source": [
    "pwd"
   ]
  },
  {
   "cell_type": "code",
   "execution_count": 97,
   "id": "9ed14ed4-b3f7-484a-ad80-b8ad174cefed",
   "metadata": {},
   "outputs": [
    {
     "name": "stdout",
     "output_type": "stream",
     "text": [
      "There is no chat log provided. If you'd like to have a conversation and then I can summarize it for you, I'd be happy to chat with you!\n"
     ]
    }
   ],
   "source": [
    "# configuration setup.\n",
    "import requests\n",
    "from groq import Groq\n",
    "\n",
    "key = 'gsk-'\n",
    "client = Groq(api_key=key)\n",
    "\n",
    "text_file = Path(\"Downloads/_chat 6.txt\")\n",
    "conv_text = text_file.open('r').read()"
   ]
  },
  {
   "cell_type": "code",
   "execution_count": 108,
   "id": "292270e3-f4f6-4299-9318-84b199d9d258",
   "metadata": {},
   "outputs": [],
   "source": [
    "# static methods\n",
    "def add_conversation(content: str, combined: bool=False) -> list:\n",
    "    \"\"\"This creates the conversation dictionary.\n",
    "    \n",
    "    Parameters\n",
    "    ----------\n",
    "    content: string message. if list of messages, combine them with a space and join function.\n",
    "    combined: boolean flag that when is true, means different summaries needs to be combined.\n",
    "\n",
    "    Returns\n",
    "    -------\n",
    "    returns a list object, containing dictionaries with key being the role and value being the content.\n",
    "    \"\"\"\n",
    "    \n",
    "    list_convo = []\n",
    "    if combined:\n",
    "        list_convo.append({\"role\":'system','content': system_combined})\n",
    "    else:\n",
    "        list_convo.append({\"role\":'system','content': system_message})\n",
    "    \n",
    "    list_convo.append({\"role\": \"user\", \"content\": content})\n",
    "    \n",
    "    return list_convo\n",
    "\n",
    "# make splits of 300\n",
    "def create_splits(text: str,size=200) -> list:\n",
    "    \"\"\"Creates splits such that each contains the given size.\"\"\"\n",
    "    splits = []\n",
    "    texts = text.split(\"\\n\")\n",
    "    print('length of lines in the given conversation is: ',len(texts))\n",
    "    \n",
    "    for ind, i in enumerate(range(0,len(texts), size)):\n",
    "        if i+size >= len(texts):\n",
    "            splits.append(texts[i:i+len(texts)])\n",
    "            continue\n",
    "\n",
    "        splits.append(texts[i:i+size])  \n",
    "\n",
    "    return splits"
   ]
  },
  {
   "cell_type": "code",
   "execution_count": 119,
   "id": "66af9aaa-260a-401e-af32-81ff3ddfd912",
   "metadata": {},
   "outputs": [],
   "source": [
    "class ConvoSummarizer:\n",
    "    \n",
    "    system_message='You are a conversation summarizer. For the given part of the conversation, summarize it. Focus on the main themes, key points and topics.'\n",
    "    system_combined = 'As a person who keeps aggregates important information together, for the list of given summaries, make a unified summary.'\n",
    "\n",
    "    def __init__(self, client: Groq, model:str = \"llama-3.3-70b-versatile\", batch_size = None):\n",
    "        self.model = model\n",
    "        self.batch_size = batch_size\n",
    "    \n",
    "    def create_summaries(self, splits: list) -> list:\n",
    "        \"\"\"\n",
    "        For each split containing text, make a summarization.\n",
    "\n",
    "        Parameters:\n",
    "        -----------\n",
    "        splits: list of strings\n",
    "\n",
    "        \"\"\"\n",
    "        summaries=[]\n",
    "        for index, split in enumerate(splits):\n",
    "            conv = add_conversation(''.join(split))\n",
    "            response = client.chat.completions.create(messages= conv, model=self.model)\n",
    "            summary = response.choices[0].message.content\n",
    "            summaries.append(summary)\n",
    "            \n",
    "            if index%4==0:\n",
    "                print(f'summarized {index+1} out of {len(splits)}') \n",
    "        return summaries\n",
    "\n",
    "    def combine_summaries(self, summaries:list) -> str:\n",
    "        \"\"\"Combine list of summaries together.\n",
    "        \n",
    "        Parameters\n",
    "        ----------\n",
    "        summaries: list of summaries.\n",
    "        \n",
    "        \"\"\"\n",
    "        summary_str = ' '.join(summaries)  # combine all text from the list into a single string.\n",
    "        print(f'total number of lines from the individual summary from the list is: {len(summary_str.split('\\n'))}')\n",
    "        summ_conv = add_conversation(summary_str, combined=True)\n",
    "        response = client.chat.completions.create(messages=summ_conv, model=self.model)\n",
    "        unified_summy = response.choices[0].message.content\n",
    "        print(f'total number of lines in the final summary is: {len(unified_summy.split('\\n'))}')\n",
    "        \n",
    "        return unified_summy\n",
    "\n",
    "    def summarize_conversation(self, text: str) -> str:\n",
    "        \"\"\"Summarize the given conversation.\n",
    "        \n",
    "        Parameters\n",
    "        ----------\n",
    "        text: str\n",
    "        \n",
    "        \"\"\"\n",
    "        if self.batch_size:\n",
    "            splits = create_splits(text, self.batch_size)\n",
    "        splits = create_splits(text)\n",
    "        summaries = self.create_summaries(splits)\n",
    "        summary = self.combine_summaries(summaries)\n",
    "\n",
    "        return summary\n"
   ]
  },
  {
   "cell_type": "code",
   "execution_count": 118,
   "id": "8a8b1fcf-0973-4fcc-b08b-a584263a2c09",
   "metadata": {},
   "outputs": [
    {
     "name": "stdout",
     "output_type": "stream",
     "text": [
      "length of lines in the given conversation is:  2164\n",
      "summarized 1 out of 11\n",
      "summarized 5 out of 11\n",
      "summarized 9 out of 11\n",
      "total number of lines from the individual summary from the list is: 185\n",
      "total number of lines in the final summary is: 29\n"
     ]
    },
    {
     "data": {
      "text/plain": [
       "\"The conversation revolves around a group of friends discussing various social events, gatherings, and activities in Essen, Germany, and surrounding areas. The main themes and key points can be summarized as follows:\\n\\n**Social Events and Gatherings:**\\n\\n1. **Essen Original Event:** The group discusses attending a music festival in Essen, sharing the program and schedule, and deciding on a meeting point.\\n2. **Meeting Points:** They choose various meeting points, including Kennedy Platz, Rathaus Galerie, and other locations, to gather before attending events.\\n3. **Performances and Concerts:** The group attends and discusses various performances, including the Tom Gregory concert and the Eurovision Song Contest.\\n4. **Hiking and Outdoor Activities:** They plan and discuss hiking trips, such as to Altena, and other outdoor activities like cycling and swimming.\\n5. **Board Game Nights and Karaoke:** The group organizes and attends board game nights and karaoke events, promoting socialization and friendship.\\n\\n**Planning and Coordination:**\\n\\n1. **Logistics and Scheduling:** The group discusses and coordinates meeting times, locations, and activities, using tools like polls and live location sharing.\\n2. **Event Suggestions:** Members suggest and discuss various events, including festivals, concerts, and cultural activities, to plan and attend together.\\n3. **Travel and Transportation:** The group talks about travel options, such as trains and bike rides, to attend events in different locations, including Düsseldorf and Cologne.\\n\\n**Personal Updates and Interests:**\\n\\n1. **Personal Invitations:** Members invite each other to personal events, such as brunches and movie nights, to spend time together.\\n2. **Hobbies and Interests:** The group discusses and shares their hobbies and interests, including language learning, music, and sports.\\n3. **Humor and Jokes:** The conversation is filled with humor, jokes, and light-hearted teasing, showcasing the group's friendly and social atmosphere.\\n\\n**Cultural and Miscellaneous Topics:**\\n\\n1. **Language and Cultural Exchange:** The group engages in language and cultural exchange, discussing languages like Indonesian and German, and sharing cultural experiences.\\n2. **Protests and Social Issues:** They briefly discuss social issues, such as right-wing extremism and LGBTQ+ events, demonstrating an awareness of current events.\\n3. **Weather and Everyday Life:** The conversation includes discussions about the weather, daily life, and other miscellaneous topics, highlighting the group's casual and social nature.\\n\\nIn summary, the conversation is about a group of friends in Essen, Germany, who regularly discuss and plan social events, gatherings, and activities, while sharing personal updates, interests, and humor.\""
      ]
     },
     "execution_count": 118,
     "metadata": {},
     "output_type": "execute_result"
    }
   ],
   "source": [
    "summarizer = ConvoSummarizer(client)\n",
    "summarizer.summarize_conversation(conv_text)"
   ]
  },
  {
   "cell_type": "code",
   "execution_count": null,
   "id": "832b4dac-3f2f-4574-aec0-41e427a9eeaf",
   "metadata": {},
   "outputs": [],
   "source": []
  }
 ],
 "metadata": {
  "kernelspec": {
   "display_name": "Python 3 (ipykernel)",
   "language": "python",
   "name": "python3"
  },
  "language_info": {
   "codemirror_mode": {
    "name": "ipython",
    "version": 3
   },
   "file_extension": ".py",
   "mimetype": "text/x-python",
   "name": "python",
   "nbconvert_exporter": "python",
   "pygments_lexer": "ipython3",
   "version": "3.12.4"
  }
 },
 "nbformat": 4,
 "nbformat_minor": 5
}
